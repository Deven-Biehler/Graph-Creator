{
 "cells": [
  {
   "cell_type": "code",
   "execution_count": 1,
   "metadata": {},
   "outputs": [
    {
     "name": "stdout",
     "output_type": "stream",
     "text": [
      "pygame 2.5.2 (SDL 2.28.3, Python 3.11.5)\n",
      "Hello from the pygame community. https://www.pygame.org/contribute.html\n"
     ]
    },
    {
     "ename": "IndexError",
     "evalue": "list assignment index out of range",
     "output_type": "error",
     "traceback": [
      "\u001b[1;31m---------------------------------------------------------------------------\u001b[0m",
      "\u001b[1;31mIndexError\u001b[0m                                Traceback (most recent call last)",
      "\u001b[1;32mc:\\Users\\Deven\\Github\\GraphCreator\\Untitled-1.ipynb Cell 1\u001b[0m line \u001b[0;36m4\n\u001b[0;32m     <a href='vscode-notebook-cell:/c%3A/Users/Deven/Github/GraphCreator/Untitled-1.ipynb#W1sZmlsZQ%3D%3D?line=42'>43</a>\u001b[0m             \u001b[39mif\u001b[39;00m vx \u001b[39m-\u001b[39m VERTEX_RADIUS \u001b[39m<\u001b[39m\u001b[39m=\u001b[39m x \u001b[39m<\u001b[39m\u001b[39m=\u001b[39m vx \u001b[39m+\u001b[39m VERTEX_RADIUS:\n\u001b[0;32m     <a href='vscode-notebook-cell:/c%3A/Users/Deven/Github/GraphCreator/Untitled-1.ipynb#W1sZmlsZQ%3D%3D?line=43'>44</a>\u001b[0m                 \u001b[39mif\u001b[39;00m vy \u001b[39m-\u001b[39m VERTEX_RADIUS \u001b[39m<\u001b[39m\u001b[39m=\u001b[39m y \u001b[39m<\u001b[39m\u001b[39m=\u001b[39m vy \u001b[39m+\u001b[39m VERTEX_RADIUS:\n\u001b[1;32m---> <a href='vscode-notebook-cell:/c%3A/Users/Deven/Github/GraphCreator/Untitled-1.ipynb#W1sZmlsZQ%3D%3D?line=44'>45</a>\u001b[0m                     vertices[i][\u001b[39m3\u001b[39;49m] \u001b[39m=\u001b[39m BLUE\n\u001b[0;32m     <a href='vscode-notebook-cell:/c%3A/Users/Deven/Github/GraphCreator/Untitled-1.ipynb#W1sZmlsZQ%3D%3D?line=47'>48</a>\u001b[0m \u001b[39melif\u001b[39;00m event\u001b[39m.\u001b[39mtype \u001b[39m==\u001b[39m pygame\u001b[39m.\u001b[39mKEYDOWN:\n\u001b[0;32m     <a href='vscode-notebook-cell:/c%3A/Users/Deven/Github/GraphCreator/Untitled-1.ipynb#W1sZmlsZQ%3D%3D?line=48'>49</a>\u001b[0m     \u001b[39mif\u001b[39;00m event\u001b[39m.\u001b[39mkey \u001b[39m==\u001b[39m pygame\u001b[39m.\u001b[39mK_q:\n",
      "\u001b[1;31mIndexError\u001b[0m: list assignment index out of range"
     ]
    },
    {
     "ename": "",
     "evalue": "",
     "output_type": "error",
     "traceback": [
      "\u001b[1;31mThe Kernel crashed while executing code in the the current cell or a previous cell. Please review the code in the cell(s) to identify a possible cause of the failure. Click <a href='https://aka.ms/vscodeJupyterKernelCrash'>here</a> for more info. View Jupyter <a href='command:jupyter.viewOutput'>log</a> for further details."
     ]
    }
   ],
   "source": [
    "import pygame\n",
    "import sys\n",
    "\n",
    "# Initialize Pygame\n",
    "pygame.init()\n",
    "\n",
    "# Constants for the window size\n",
    "WIDTH, HEIGHT = 800, 600\n",
    "VERTEX_RADIUS = 20\n",
    "\n",
    "# Colors\n",
    "WHITE = (255, 255, 255)\n",
    "BLACK = (0, 0, 0)\n",
    "RED = (255, 0, 0)\n",
    "BLUE = (0, 255, 0)\n",
    "\n",
    "# Create a Pygame window\n",
    "screen = pygame.display.set_mode((WIDTH, HEIGHT))\n",
    "pygame.display.set_caption(\"Graph Theorist's Sketchpad\")\n",
    "\n",
    "# Vertex information\n",
    "vertices = []\n",
    "\n",
    "# Game Modes\n",
    "game_mode = \"vertex\"\n",
    "\n",
    "# Main game loop\n",
    "running = True\n",
    "while running:\n",
    "    for event in pygame.event.get():\n",
    "        if event.type == pygame.QUIT:\n",
    "            running = False\n",
    "        elif event.type == pygame.MOUSEBUTTONDOWN:\n",
    "            if game_mode == \"vertex\":\n",
    "                x, y = event.pos\n",
    "                if 0 <= x <= WIDTH and 0 <= y <= WIDTH:\n",
    "                    # Add a new vertex at the mouse click position\n",
    "                    vertices.append([x, y, RED])\n",
    "            if game_mode == \"edge\":\n",
    "                x, y = event.pos\n",
    "                for i, vertex in enumerate(vertices):\n",
    "                    vx, vy, _ = vertex\n",
    "                    if vx - VERTEX_RADIUS <= x <= vx + VERTEX_RADIUS:\n",
    "                        if vy - VERTEX_RADIUS <= y <= vy + VERTEX_RADIUS:\n",
    "                            vertices[i][3] = BLUE\n",
    "\n",
    "        \n",
    "        elif event.type == pygame.KEYDOWN:\n",
    "            if event.key == pygame.K_q:\n",
    "                game_mode = \"vertex\"\n",
    "            if event.key == pygame.K_w:\n",
    "                game_mode = \"edge\"\n",
    "\n",
    "    # Clear the screen\n",
    "    screen.fill(WHITE)\n",
    "\n",
    "    # Draw vertices\n",
    "    for x, y, color in vertices:\n",
    "        pygame.draw.circle(screen, color, (x, y), VERTEX_RADIUS)\n",
    "\n",
    "    # Update the display\n",
    "    pygame.display.flip()\n",
    "\n",
    "# Quit Pygame\n",
    "pygame.quit()\n",
    "sys.exit()\n"
   ]
  }
 ],
 "metadata": {
  "kernelspec": {
   "display_name": "Python 3",
   "language": "python",
   "name": "python3"
  },
  "language_info": {
   "codemirror_mode": {
    "name": "ipython",
    "version": 3
   },
   "file_extension": ".py",
   "mimetype": "text/x-python",
   "name": "python",
   "nbconvert_exporter": "python",
   "pygments_lexer": "ipython3",
   "version": "3.11.5"
  }
 },
 "nbformat": 4,
 "nbformat_minor": 2
}
